{
 "cells": [
  {
   "cell_type": "code",
   "execution_count": 1,
   "metadata": {},
   "outputs": [],
   "source": [
    "\n",
    "# Load libraries\n",
    "import pandas as pd\n",
    "import numpy as np\n",
    "from sklearn.tree import DecisionTreeClassifier # Import Decision Tree Classifier\n",
    "from sklearn.model_selection import train_test_split # Import train_test_split function\n",
    "from sklearn import metrics #Import scikit-learn metrics module for accuracy calculation\n"
   ]
  },
  {
   "cell_type": "code",
   "execution_count": 2,
   "metadata": {},
   "outputs": [
    {
     "data": {
      "text/html": [
       "<div>\n",
       "<style scoped>\n",
       "    .dataframe tbody tr th:only-of-type {\n",
       "        vertical-align: middle;\n",
       "    }\n",
       "\n",
       "    .dataframe tbody tr th {\n",
       "        vertical-align: top;\n",
       "    }\n",
       "\n",
       "    .dataframe thead th {\n",
       "        text-align: right;\n",
       "    }\n",
       "</style>\n",
       "<table border=\"1\" class=\"dataframe\">\n",
       "  <thead>\n",
       "    <tr style=\"text-align: right;\">\n",
       "      <th></th>\n",
       "      <th>Unnamed: 0</th>\n",
       "      <th>Unnamed: 0.1</th>\n",
       "      <th>index</th>\n",
       "      <th>0</th>\n",
       "      <th>1</th>\n",
       "      <th>2</th>\n",
       "      <th>3</th>\n",
       "      <th>index_score</th>\n",
       "      <th>desc1_score</th>\n",
       "      <th>desc2_score</th>\n",
       "      <th>label</th>\n",
       "    </tr>\n",
       "  </thead>\n",
       "  <tbody>\n",
       "    <tr>\n",
       "      <th>0</th>\n",
       "      <td>0</td>\n",
       "      <td>0</td>\n",
       "      <td>Ink helps drive democracy in Asia</td>\n",
       "      <td>The Kyrgyz Republic, a small, mountainous stat...</td>\n",
       "      <td>This new technology is causing both worries an...</td>\n",
       "      <td>The Kyrgyz Republic is seen by many experts as...</td>\n",
       "      <td>The actual technology behind the ink is not th...</td>\n",
       "      <td>0.3818</td>\n",
       "      <td>0.0258</td>\n",
       "      <td>0.4215</td>\n",
       "      <td>1</td>\n",
       "    </tr>\n",
       "    <tr>\n",
       "      <th>1</th>\n",
       "      <td>1</td>\n",
       "      <td>1</td>\n",
       "      <td>China net cafe culture crackdown</td>\n",
       "      <td>Chinese authorities closed 12,575 net cafes in...</td>\n",
       "      <td>According to the official news agency most of ...</td>\n",
       "      <td>The official Xinhua News Agency said the crack...</td>\n",
       "      <td>Net cafes are hugely popular in China because ...</td>\n",
       "      <td>0.0000</td>\n",
       "      <td>0.0000</td>\n",
       "      <td>-0.7239</td>\n",
       "      <td>0</td>\n",
       "    </tr>\n",
       "    <tr>\n",
       "      <th>2</th>\n",
       "      <td>2</td>\n",
       "      <td>2</td>\n",
       "      <td>Microsoft seeking spyware trojan</td>\n",
       "      <td>Microsoft is investigating a trojan program th...</td>\n",
       "      <td>The spyware tool was only released by Microsof...</td>\n",
       "      <td>It may also try to steal online banking passwo...</td>\n",
       "      <td>Microsoft said in a statement it is investigat...</td>\n",
       "      <td>0.0000</td>\n",
       "      <td>0.0000</td>\n",
       "      <td>0.4588</td>\n",
       "      <td>0</td>\n",
       "    </tr>\n",
       "    <tr>\n",
       "      <th>3</th>\n",
       "      <td>3</td>\n",
       "      <td>3</td>\n",
       "      <td>Digital guru floats sub-$100 PC</td>\n",
       "      <td>Nicholas Negroponte, chairman and founder of M...</td>\n",
       "      <td>He told the BBC World Service programme Go Dig...</td>\n",
       "      <td>The second trick is to get rid of the fat , if...</td>\n",
       "      <td>While the idea was popular amongst the childre...</td>\n",
       "      <td>0.0000</td>\n",
       "      <td>0.0000</td>\n",
       "      <td>0.6805</td>\n",
       "      <td>0</td>\n",
       "    </tr>\n",
       "    <tr>\n",
       "      <th>4</th>\n",
       "      <td>4</td>\n",
       "      <td>4</td>\n",
       "      <td>Technology gets the creative bug</td>\n",
       "      <td>The hi-tech and the arts worlds have for some ...</td>\n",
       "      <td>Often this help has come in the form of corpor...</td>\n",
       "      <td>To mark the initiative's launch, a major inter...</td>\n",
       "      <td>They have recently been excavated and are thou...</td>\n",
       "      <td>0.4404</td>\n",
       "      <td>0.6808</td>\n",
       "      <td>0.9825</td>\n",
       "      <td>1</td>\n",
       "    </tr>\n",
       "  </tbody>\n",
       "</table>\n",
       "</div>"
      ],
      "text/plain": [
       "   Unnamed: 0  Unnamed: 0.1                              index  \\\n",
       "0           0             0  Ink helps drive democracy in Asia   \n",
       "1           1             1   China net cafe culture crackdown   \n",
       "2           2             2   Microsoft seeking spyware trojan   \n",
       "3           3             3    Digital guru floats sub-$100 PC   \n",
       "4           4             4   Technology gets the creative bug   \n",
       "\n",
       "                                                   0  \\\n",
       "0  The Kyrgyz Republic, a small, mountainous stat...   \n",
       "1  Chinese authorities closed 12,575 net cafes in...   \n",
       "2  Microsoft is investigating a trojan program th...   \n",
       "3  Nicholas Negroponte, chairman and founder of M...   \n",
       "4  The hi-tech and the arts worlds have for some ...   \n",
       "\n",
       "                                                   1  \\\n",
       "0  This new technology is causing both worries an...   \n",
       "1  According to the official news agency most of ...   \n",
       "2  The spyware tool was only released by Microsof...   \n",
       "3  He told the BBC World Service programme Go Dig...   \n",
       "4  Often this help has come in the form of corpor...   \n",
       "\n",
       "                                                   2  \\\n",
       "0  The Kyrgyz Republic is seen by many experts as...   \n",
       "1  The official Xinhua News Agency said the crack...   \n",
       "2  It may also try to steal online banking passwo...   \n",
       "3  The second trick is to get rid of the fat , if...   \n",
       "4  To mark the initiative's launch, a major inter...   \n",
       "\n",
       "                                                   3  index_score  \\\n",
       "0  The actual technology behind the ink is not th...       0.3818   \n",
       "1  Net cafes are hugely popular in China because ...       0.0000   \n",
       "2  Microsoft said in a statement it is investigat...       0.0000   \n",
       "3  While the idea was popular amongst the childre...       0.0000   \n",
       "4  They have recently been excavated and are thou...       0.4404   \n",
       "\n",
       "   desc1_score  desc2_score  label  \n",
       "0       0.0258       0.4215      1  \n",
       "1       0.0000      -0.7239      0  \n",
       "2       0.0000       0.4588      0  \n",
       "3       0.0000       0.6805      0  \n",
       "4       0.6808       0.9825      1  "
      ]
     },
     "execution_count": 2,
     "metadata": {},
     "output_type": "execute_result"
    }
   ],
   "source": [
    "df = pd.read_csv(\"technology-df.csv\")\n",
    "df.head()"
   ]
  },
  {
   "cell_type": "code",
   "execution_count": 3,
   "metadata": {},
   "outputs": [],
   "source": [
    "feature_cols=['index_score','desc1_score','desc2_score']\n",
    "X = df[feature_cols] # Features\n",
    "y = df.label # Target variable\n",
    "\n",
    "# Split dataset into training set and test set\n",
    "X_train, X_test, y_train, y_test = train_test_split(X, y, test_size=0.3, random_state=1) # 70% training and 30% test\n",
    "\n"
   ]
  },
  {
   "cell_type": "code",
   "execution_count": 4,
   "metadata": {},
   "outputs": [],
   "source": [
    "# Create Decision Tree classifer object\n",
    "clf = DecisionTreeClassifier()\n",
    "\n",
    "# Train Decision Tree Classifer\n",
    "clf = clf.fit(X_train,y_train)\n",
    "\n",
    "#Predict the response for test dataset\n",
    "y_pred = clf.predict(X_test)"
   ]
  },
  {
   "cell_type": "code",
   "execution_count": 5,
   "metadata": {},
   "outputs": [
    {
     "name": "stdout",
     "output_type": "stream",
     "text": [
      "Accuracy: 0.9917355371900827\n"
     ]
    }
   ],
   "source": [
    "# Model Accuracy, how often is the classifier correct?\n",
    "print(\"Accuracy:\",metrics.accuracy_score(y_test, y_pred))"
   ]
  },
  {
   "cell_type": "code",
   "execution_count": 6,
   "metadata": {},
   "outputs": [],
   "source": [
    "from sklearn import tree\n",
    "\n",
    "import matplotlib.pyplot as plt\n",
    "%matplotlib inline"
   ]
  },
  {
   "cell_type": "code",
   "execution_count": 7,
   "metadata": {},
   "outputs": [
    {
     "data": {
      "image/png": "[encoded data removed]",
      "text/plain": [
       "<Figure size 432x288 with 1 Axes>"
      ]
     },
     "metadata": {
      "needs_background": "light"
     },
     "output_type": "display_data"
    }
   ],
   "source": [
    "tree.plot_tree(clf);"
   ]
  },
  {
   "cell_type": "code",
   "execution_count": 8,
   "metadata": {},
   "outputs": [
    {
     "name": "stdout",
     "output_type": "stream",
     "text": [
      "[[92  0]\n",
      " [ 1 28]]\n",
      "              precision    recall  f1-score   support\n",
      "\n",
      "           0       0.99      1.00      0.99        92\n",
      "           1       1.00      0.97      0.98        29\n",
      "\n",
      "    accuracy                           0.99       121\n",
      "   macro avg       0.99      0.98      0.99       121\n",
      "weighted avg       0.99      0.99      0.99       121\n",
      "\n"
     ]
    }
   ],
   "source": [
    "from sklearn.metrics import classification_report, confusion_matrix\n",
    "print(confusion_matrix(y_test, y_pred))\n",
    "print(classification_report(y_test, y_pred))"
   ]
  },
  {
   "cell_type": "code",
   "execution_count": 9,
   "metadata": {},
   "outputs": [
    {
     "name": "stdout",
     "output_type": "stream",
     "text": [
      "Mean Absolute Error: 0.008264462809917356\n",
      "Mean Squared Error: 0.008264462809917356\n",
      "Root Mean Squared Error: 0.09090909090909091\n"
     ]
    }
   ],
   "source": [
    "from sklearn import metrics\n",
    "print('Mean Absolute Error:', metrics.mean_absolute_error(y_test, y_pred))\n",
    "print('Mean Squared Error:', metrics.mean_squared_error(y_test, y_pred))\n",
    "print('Root Mean Squared Error:', np.sqrt(metrics.mean_squared_error(y_test, y_pred)))"
   ]
  },
  {
   "cell_type": "code",
   "execution_count": null,
   "metadata": {},
   "outputs": [],
   "source": []
  },
  {
   "cell_type": "code",
   "execution_count": null,
   "metadata": {},
   "outputs": [],
   "source": []
  }
 ],
 "metadata": {
  "kernelspec": {
   "display_name": "Python 3",
   "language": "python",
   "name": "python3"
  },
  "language_info": {
   "codemirror_mode": {
    "name": "ipython",
    "version": 3
   },
   "file_extension": ".py",
   "mimetype": "text/x-python",
   "name": "python",
   "nbconvert_exporter": "python",
   "pygments_lexer": "ipython3",
   "version": "3.7.4"
  }
 },
 "nbformat": 4,
 "nbformat_minor": 2
}
